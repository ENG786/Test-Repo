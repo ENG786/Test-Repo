{
  "cells": [
    {
      "metadata": {
        "_uuid": "b6269c0e8f417f82daf093dda8fa0da6d2c57d86",
        "_cell_guid": "e81ee64d-e474-4662-9036-ce23df615199"
      },
      "cell_type": "markdown",
      "source": "# Introduction\n**This will be your workspace for the [Machine Learning course](https://www.kaggle.com/learn/machine-learning).**\n\nYou will need to translate the concepts to work with the data in this notebook, the Iowa data. Each page in the Machine Learning course includes instructions for what code to write at that step in the course.\n\n# Write Your Code Below"
    },
    {
      "metadata": {
        "_uuid": "1c728098629e1301643443b1341556a15c089b2b",
        "_cell_guid": "86b26423-563a-4fa1-a595-89e25ff93089",
        "trusted": true
      },
      "cell_type": "code",
      "source": "import pandas as pd\n\nmain_file_path = '../input/house-prices-advanced-regression-techniques/train.csv' # this is the path to the Iowa data that you will use\ndata = pd.read_csv(main_file_path)\n\n# Run this code block with the control-enter keys on your keyboard. Or click the blue botton on the left\nprint('Some output from running this cell')",
      "execution_count": 2,
      "outputs": [
        {
          "output_type": "stream",
          "text": "Some output from running this cell\n",
          "name": "stdout"
        }
      ]
    },
    {
      "metadata": {
        "trusted": true,
        "_uuid": "21dd21140ed0e8106355563fe3bc41c34bc12a73"
      },
      "cell_type": "code",
      "source": "data.describe()",
      "execution_count": 3,
      "outputs": [
        {
          "output_type": "execute_result",
          "execution_count": 3,
          "data": {
            "text/plain": "                Id   MSSubClass      ...             YrSold      SalePrice\ncount  1460.000000  1460.000000      ...        1460.000000    1460.000000\nmean    730.500000    56.897260      ...        2007.815753  180921.195890\nstd     421.610009    42.300571      ...           1.328095   79442.502883\nmin       1.000000    20.000000      ...        2006.000000   34900.000000\n25%     365.750000    20.000000      ...        2007.000000  129975.000000\n50%     730.500000    50.000000      ...        2008.000000  163000.000000\n75%    1095.250000    70.000000      ...        2009.000000  214000.000000\nmax    1460.000000   190.000000      ...        2010.000000  755000.000000\n\n[8 rows x 38 columns]",
            "text/html": "<div>\n<style scoped>\n    .dataframe tbody tr th:only-of-type {\n        vertical-align: middle;\n    }\n\n    .dataframe tbody tr th {\n        vertical-align: top;\n    }\n\n    .dataframe thead th {\n        text-align: right;\n    }\n</style>\n<table border=\"1\" class=\"dataframe\">\n  <thead>\n    <tr style=\"text-align: right;\">\n      <th></th>\n      <th>Id</th>\n      <th>MSSubClass</th>\n      <th>LotFrontage</th>\n      <th>LotArea</th>\n      <th>OverallQual</th>\n      <th>OverallCond</th>\n      <th>YearBuilt</th>\n      <th>YearRemodAdd</th>\n      <th>MasVnrArea</th>\n      <th>BsmtFinSF1</th>\n      <th>BsmtFinSF2</th>\n      <th>BsmtUnfSF</th>\n      <th>TotalBsmtSF</th>\n      <th>1stFlrSF</th>\n      <th>2ndFlrSF</th>\n      <th>LowQualFinSF</th>\n      <th>GrLivArea</th>\n      <th>BsmtFullBath</th>\n      <th>BsmtHalfBath</th>\n      <th>FullBath</th>\n      <th>HalfBath</th>\n      <th>BedroomAbvGr</th>\n      <th>KitchenAbvGr</th>\n      <th>TotRmsAbvGrd</th>\n      <th>Fireplaces</th>\n      <th>GarageYrBlt</th>\n      <th>GarageCars</th>\n      <th>GarageArea</th>\n      <th>WoodDeckSF</th>\n      <th>OpenPorchSF</th>\n      <th>EnclosedPorch</th>\n      <th>3SsnPorch</th>\n      <th>ScreenPorch</th>\n      <th>PoolArea</th>\n      <th>MiscVal</th>\n      <th>MoSold</th>\n      <th>YrSold</th>\n      <th>SalePrice</th>\n    </tr>\n  </thead>\n  <tbody>\n    <tr>\n      <th>count</th>\n      <td>1460.000000</td>\n      <td>1460.000000</td>\n      <td>1201.000000</td>\n      <td>1460.000000</td>\n      <td>1460.000000</td>\n      <td>1460.000000</td>\n      <td>1460.000000</td>\n      <td>1460.000000</td>\n      <td>1452.000000</td>\n      <td>1460.000000</td>\n      <td>1460.000000</td>\n      <td>1460.000000</td>\n      <td>1460.000000</td>\n      <td>1460.000000</td>\n      <td>1460.000000</td>\n      <td>1460.000000</td>\n      <td>1460.000000</td>\n      <td>1460.000000</td>\n      <td>1460.000000</td>\n      <td>1460.000000</td>\n      <td>1460.000000</td>\n      <td>1460.000000</td>\n      <td>1460.000000</td>\n      <td>1460.000000</td>\n      <td>1460.000000</td>\n      <td>1379.000000</td>\n      <td>1460.000000</td>\n      <td>1460.000000</td>\n      <td>1460.000000</td>\n      <td>1460.000000</td>\n      <td>1460.000000</td>\n      <td>1460.000000</td>\n      <td>1460.000000</td>\n      <td>1460.000000</td>\n      <td>1460.000000</td>\n      <td>1460.000000</td>\n      <td>1460.000000</td>\n      <td>1460.000000</td>\n    </tr>\n    <tr>\n      <th>mean</th>\n      <td>730.500000</td>\n      <td>56.897260</td>\n      <td>70.049958</td>\n      <td>10516.828082</td>\n      <td>6.099315</td>\n      <td>5.575342</td>\n      <td>1971.267808</td>\n      <td>1984.865753</td>\n      <td>103.685262</td>\n      <td>443.639726</td>\n      <td>46.549315</td>\n      <td>567.240411</td>\n      <td>1057.429452</td>\n      <td>1162.626712</td>\n      <td>346.992466</td>\n      <td>5.844521</td>\n      <td>1515.463699</td>\n      <td>0.425342</td>\n      <td>0.057534</td>\n      <td>1.565068</td>\n      <td>0.382877</td>\n      <td>2.866438</td>\n      <td>1.046575</td>\n      <td>6.517808</td>\n      <td>0.613014</td>\n      <td>1978.506164</td>\n      <td>1.767123</td>\n      <td>472.980137</td>\n      <td>94.244521</td>\n      <td>46.660274</td>\n      <td>21.954110</td>\n      <td>3.409589</td>\n      <td>15.060959</td>\n      <td>2.758904</td>\n      <td>43.489041</td>\n      <td>6.321918</td>\n      <td>2007.815753</td>\n      <td>180921.195890</td>\n    </tr>\n    <tr>\n      <th>std</th>\n      <td>421.610009</td>\n      <td>42.300571</td>\n      <td>24.284752</td>\n      <td>9981.264932</td>\n      <td>1.382997</td>\n      <td>1.112799</td>\n      <td>30.202904</td>\n      <td>20.645407</td>\n      <td>181.066207</td>\n      <td>456.098091</td>\n      <td>161.319273</td>\n      <td>441.866955</td>\n      <td>438.705324</td>\n      <td>386.587738</td>\n      <td>436.528436</td>\n      <td>48.623081</td>\n      <td>525.480383</td>\n      <td>0.518911</td>\n      <td>0.238753</td>\n      <td>0.550916</td>\n      <td>0.502885</td>\n      <td>0.815778</td>\n      <td>0.220338</td>\n      <td>1.625393</td>\n      <td>0.644666</td>\n      <td>24.689725</td>\n      <td>0.747315</td>\n      <td>213.804841</td>\n      <td>125.338794</td>\n      <td>66.256028</td>\n      <td>61.119149</td>\n      <td>29.317331</td>\n      <td>55.757415</td>\n      <td>40.177307</td>\n      <td>496.123024</td>\n      <td>2.703626</td>\n      <td>1.328095</td>\n      <td>79442.502883</td>\n    </tr>\n    <tr>\n      <th>min</th>\n      <td>1.000000</td>\n      <td>20.000000</td>\n      <td>21.000000</td>\n      <td>1300.000000</td>\n      <td>1.000000</td>\n      <td>1.000000</td>\n      <td>1872.000000</td>\n      <td>1950.000000</td>\n      <td>0.000000</td>\n      <td>0.000000</td>\n      <td>0.000000</td>\n      <td>0.000000</td>\n      <td>0.000000</td>\n      <td>334.000000</td>\n      <td>0.000000</td>\n      <td>0.000000</td>\n      <td>334.000000</td>\n      <td>0.000000</td>\n      <td>0.000000</td>\n      <td>0.000000</td>\n      <td>0.000000</td>\n      <td>0.000000</td>\n      <td>0.000000</td>\n      <td>2.000000</td>\n      <td>0.000000</td>\n      <td>1900.000000</td>\n      <td>0.000000</td>\n      <td>0.000000</td>\n      <td>0.000000</td>\n      <td>0.000000</td>\n      <td>0.000000</td>\n      <td>0.000000</td>\n      <td>0.000000</td>\n      <td>0.000000</td>\n      <td>0.000000</td>\n      <td>1.000000</td>\n      <td>2006.000000</td>\n      <td>34900.000000</td>\n    </tr>\n    <tr>\n      <th>25%</th>\n      <td>365.750000</td>\n      <td>20.000000</td>\n      <td>59.000000</td>\n      <td>7553.500000</td>\n      <td>5.000000</td>\n      <td>5.000000</td>\n      <td>1954.000000</td>\n      <td>1967.000000</td>\n      <td>0.000000</td>\n      <td>0.000000</td>\n      <td>0.000000</td>\n      <td>223.000000</td>\n      <td>795.750000</td>\n      <td>882.000000</td>\n      <td>0.000000</td>\n      <td>0.000000</td>\n      <td>1129.500000</td>\n      <td>0.000000</td>\n      <td>0.000000</td>\n      <td>1.000000</td>\n      <td>0.000000</td>\n      <td>2.000000</td>\n      <td>1.000000</td>\n      <td>5.000000</td>\n      <td>0.000000</td>\n      <td>1961.000000</td>\n      <td>1.000000</td>\n      <td>334.500000</td>\n      <td>0.000000</td>\n      <td>0.000000</td>\n      <td>0.000000</td>\n      <td>0.000000</td>\n      <td>0.000000</td>\n      <td>0.000000</td>\n      <td>0.000000</td>\n      <td>5.000000</td>\n      <td>2007.000000</td>\n      <td>129975.000000</td>\n    </tr>\n    <tr>\n      <th>50%</th>\n      <td>730.500000</td>\n      <td>50.000000</td>\n      <td>69.000000</td>\n      <td>9478.500000</td>\n      <td>6.000000</td>\n      <td>5.000000</td>\n      <td>1973.000000</td>\n      <td>1994.000000</td>\n      <td>0.000000</td>\n      <td>383.500000</td>\n      <td>0.000000</td>\n      <td>477.500000</td>\n      <td>991.500000</td>\n      <td>1087.000000</td>\n      <td>0.000000</td>\n      <td>0.000000</td>\n      <td>1464.000000</td>\n      <td>0.000000</td>\n      <td>0.000000</td>\n      <td>2.000000</td>\n      <td>0.000000</td>\n      <td>3.000000</td>\n      <td>1.000000</td>\n      <td>6.000000</td>\n      <td>1.000000</td>\n      <td>1980.000000</td>\n      <td>2.000000</td>\n      <td>480.000000</td>\n      <td>0.000000</td>\n      <td>25.000000</td>\n      <td>0.000000</td>\n      <td>0.000000</td>\n      <td>0.000000</td>\n      <td>0.000000</td>\n      <td>0.000000</td>\n      <td>6.000000</td>\n      <td>2008.000000</td>\n      <td>163000.000000</td>\n    </tr>\n    <tr>\n      <th>75%</th>\n      <td>1095.250000</td>\n      <td>70.000000</td>\n      <td>80.000000</td>\n      <td>11601.500000</td>\n      <td>7.000000</td>\n      <td>6.000000</td>\n      <td>2000.000000</td>\n      <td>2004.000000</td>\n      <td>166.000000</td>\n      <td>712.250000</td>\n      <td>0.000000</td>\n      <td>808.000000</td>\n      <td>1298.250000</td>\n      <td>1391.250000</td>\n      <td>728.000000</td>\n      <td>0.000000</td>\n      <td>1776.750000</td>\n      <td>1.000000</td>\n      <td>0.000000</td>\n      <td>2.000000</td>\n      <td>1.000000</td>\n      <td>3.000000</td>\n      <td>1.000000</td>\n      <td>7.000000</td>\n      <td>1.000000</td>\n      <td>2002.000000</td>\n      <td>2.000000</td>\n      <td>576.000000</td>\n      <td>168.000000</td>\n      <td>68.000000</td>\n      <td>0.000000</td>\n      <td>0.000000</td>\n      <td>0.000000</td>\n      <td>0.000000</td>\n      <td>0.000000</td>\n      <td>8.000000</td>\n      <td>2009.000000</td>\n      <td>214000.000000</td>\n    </tr>\n    <tr>\n      <th>max</th>\n      <td>1460.000000</td>\n      <td>190.000000</td>\n      <td>313.000000</td>\n      <td>215245.000000</td>\n      <td>10.000000</td>\n      <td>9.000000</td>\n      <td>2010.000000</td>\n      <td>2010.000000</td>\n      <td>1600.000000</td>\n      <td>5644.000000</td>\n      <td>1474.000000</td>\n      <td>2336.000000</td>\n      <td>6110.000000</td>\n      <td>4692.000000</td>\n      <td>2065.000000</td>\n      <td>572.000000</td>\n      <td>5642.000000</td>\n      <td>3.000000</td>\n      <td>2.000000</td>\n      <td>3.000000</td>\n      <td>2.000000</td>\n      <td>8.000000</td>\n      <td>3.000000</td>\n      <td>14.000000</td>\n      <td>3.000000</td>\n      <td>2010.000000</td>\n      <td>4.000000</td>\n      <td>1418.000000</td>\n      <td>857.000000</td>\n      <td>547.000000</td>\n      <td>552.000000</td>\n      <td>508.000000</td>\n      <td>480.000000</td>\n      <td>738.000000</td>\n      <td>15500.000000</td>\n      <td>12.000000</td>\n      <td>2010.000000</td>\n      <td>755000.000000</td>\n    </tr>\n  </tbody>\n</table>\n</div>"
          },
          "metadata": {}
        }
      ]
    },
    {
      "metadata": {
        "trusted": true,
        "_uuid": "c82f1f26c3ffc082d97d62798be3ce02f4d5caea"
      },
      "cell_type": "code",
      "source": "data.columns[data.dtypes=='int']",
      "execution_count": 4,
      "outputs": [
        {
          "output_type": "execute_result",
          "execution_count": 4,
          "data": {
            "text/plain": "Index(['Id', 'MSSubClass', 'LotArea', 'OverallQual', 'OverallCond',\n       'YearBuilt', 'YearRemodAdd', 'BsmtFinSF1', 'BsmtFinSF2', 'BsmtUnfSF',\n       'TotalBsmtSF', '1stFlrSF', '2ndFlrSF', 'LowQualFinSF', 'GrLivArea',\n       'BsmtFullBath', 'BsmtHalfBath', 'FullBath', 'HalfBath', 'BedroomAbvGr',\n       'KitchenAbvGr', 'TotRmsAbvGrd', 'Fireplaces', 'GarageCars',\n       'GarageArea', 'WoodDeckSF', 'OpenPorchSF', 'EnclosedPorch', '3SsnPorch',\n       'ScreenPorch', 'PoolArea', 'MiscVal', 'MoSold', 'YrSold', 'SalePrice'],\n      dtype='object')"
          },
          "metadata": {}
        }
      ]
    },
    {
      "metadata": {
        "trusted": true,
        "_uuid": "2462772b468b1f3049bb5ad0fc8eab82f457e392"
      },
      "cell_type": "code",
      "source": "train_features = ['LotArea','YearBuilt','1stFlrSF', '2ndFlrSF','FullBath', 'BedroomAbvGr','TotRmsAbvGrd']\ntarget_features = ['SalePrice']\nx = data[train_features]\ny = data[target_features]\nfrom sklearn.tree import DecisionTreeRegressor\ndata_model = DecisionTreeRegressor()\ndata_model.fit(x,y)\npredicted_value = data_model.predict(x)\nfrom sklearn.metrics import mean_absolute_error\nerror = mean_absolute_error(y,predicted_value)\nerror",
      "execution_count": 5,
      "outputs": [
        {
          "output_type": "execute_result",
          "execution_count": 5,
          "data": {
            "text/plain": "62.354337899543388"
          },
          "metadata": {}
        }
      ]
    },
    {
      "metadata": {
        "trusted": true,
        "_uuid": "085d958629eca53dc5e0a2c75002b4056d2dd555"
      },
      "cell_type": "code",
      "source": "from sklearn.model_selection import train_test_split\nxtrain,xtest,ytrain,ytest = train_test_split(x,y,random_state=0)\ndata_model = DecisionTreeRegressor()\ndata_model.fit(xtrain,ytrain)\npredicted_value = data_model.predict(xtest)\nnew_error = mean_absolute_error(ytest,predicted_value)\nnew_error",
      "execution_count": 6,
      "outputs": [
        {
          "output_type": "execute_result",
          "execution_count": 6,
          "data": {
            "text/plain": "32996.257534246579"
          },
          "metadata": {}
        }
      ]
    },
    {
      "metadata": {
        "trusted": true,
        "_uuid": "840f839b9893168b2a5be45160100f7d02a9bb04"
      },
      "cell_type": "code",
      "source": "def get_mae(max_leaf_nodes,xtrain,ytrain,xtest,ytest):\n    model = DecisionTreeRegressor(max_leaf_nodes=max_leaf_nodes)\n    model.fit(xtrain,ytrain)\n    predicted_val = model.predict(xtest)\n    error = mean_absolute_error(ytest,predicted_val)\n    return error\nfor max_leaf_nodes in [5,50,500,5000]:\n    err = get_mae(max_leaf_nodes,xtrain,ytrain,xtest,ytest)\n    print(\"max_leaf_nodes: %d  \\t\\t mean absolute error is : %d\" %(max_leaf_nodes,err))\n    ",
      "execution_count": 7,
      "outputs": [
        {
          "output_type": "stream",
          "text": "max_leaf_nodes: 5  \t\t mean absolute error is : 35190\nmax_leaf_nodes: 50  \t\t mean absolute error is : 27825\nmax_leaf_nodes: 500  \t\t mean absolute error is : 32473\nmax_leaf_nodes: 5000  \t\t mean absolute error is : 33273\n",
          "name": "stdout"
        }
      ]
    },
    {
      "metadata": {
        "_uuid": "ad3199f5049c697d3a5dbd68972c03889a105c09"
      },
      "cell_type": "markdown",
      "source": "### Here we can say the optimum max_leaf_nodes is 50"
    },
    {
      "metadata": {
        "_uuid": "43059d4185320bda4d4c4a2c3e30c25e14cc0871"
      },
      "cell_type": "markdown",
      "source": "## Random Forest"
    },
    {
      "metadata": {
        "trusted": true,
        "_uuid": "4b691a614b4cf62613fadceed1b52898ca3c3aa0"
      },
      "cell_type": "code",
      "source": "from sklearn.ensemble import RandomForestRegressor\nfrom sklearn.metrics import mean_absolute_error\nmodel = RandomForestRegressor()\nmodel.fit(xtrain,ytrain)\npred_val = model.predict(xtest)\nerr = mean_absolute_error(ytest,pred_val)\nerr",
      "execution_count": 8,
      "outputs": [
        {
          "output_type": "stream",
          "text": "/opt/conda/lib/python3.6/site-packages/ipykernel_launcher.py:4: DataConversionWarning: A column-vector y was passed when a 1d array was expected. Please change the shape of y to (n_samples,), for example using ravel().\n  after removing the cwd from sys.path.\n",
          "name": "stderr"
        },
        {
          "output_type": "execute_result",
          "execution_count": 8,
          "data": {
            "text/plain": "24190.010867579909"
          },
          "metadata": {}
        }
      ]
    },
    {
      "metadata": {
        "_uuid": "1cd9554f8b4b9a2cd2e2ac162344179667ac8e6e"
      },
      "cell_type": "markdown",
      "source": "#### Here we can see the Random forest is working pretty fine(24190) with out tuning parameters,where as the Decision Tree with the tuning parameters(27825)"
    },
    {
      "metadata": {
        "_uuid": "64fde43ae8511da761549c42f24eccb5d1039271",
        "_cell_guid": "06a2e301-f224-40d0-8709-a942b24cd124"
      },
      "cell_type": "markdown",
      "source": "\n**If you have any questions or hit any problems, come to the [Learn Discussion](https://www.kaggle.com/learn-forum) for help. **\n\n**Return to [ML Course Index](https://www.kaggle.com/learn/machine-learning)**"
    },
    {
      "metadata": {
        "_uuid": "704e07440d7d4ef7ad3cf25c0a966c000bb8eeef",
        "_cell_guid": "895df7f1-dab8-4c54-ab7e-9a865146deac"
      },
      "cell_type": "markdown",
      "source": ""
    }
  ],
  "metadata": {
    "kernelspec": {
      "display_name": "Python 3",
      "language": "python",
      "name": "python3"
    },
    "language_info": {
      "name": "python",
      "version": "3.6.5",
      "mimetype": "text/x-python",
      "codemirror_mode": {
        "name": "ipython",
        "version": 3
      },
      "pygments_lexer": "ipython3",
      "nbconvert_exporter": "python",
      "file_extension": ".py"
    }
  },
  "nbformat": 4,
  "nbformat_minor": 1
}